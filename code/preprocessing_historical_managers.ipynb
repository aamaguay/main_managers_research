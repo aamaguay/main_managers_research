{
 "cells": [
  {
   "cell_type": "markdown",
   "metadata": {},
   "source": [
    "# Imports"
   ]
  },
  {
   "cell_type": "code",
   "execution_count": 1,
   "metadata": {},
   "outputs": [],
   "source": [
    "import pandas as pd\n",
    "import numpy as np\n",
    "import dask.dataframe as dd\n",
    "\n",
    "from pyspark.sql import SparkSession\n",
    "from pyspark.sql.types import StructField,IntegerType, StructType,StringType\n",
    "from functools import reduce  # For Python 3.x\n",
    "from pyspark.sql import DataFrame\n",
    "from pyspark.sql.functions import *\n",
    "from pyspark.sql import functions as sf\n",
    "from pyspark.sql.types import IntegerType\n",
    "from pyspark.sql.functions import isnan, when, count, col , split"
   ]
  },
  {
   "cell_type": "markdown",
   "metadata": {},
   "source": [
    "# Load Dataset"
   ]
  },
  {
   "cell_type": "code",
   "execution_count": 105,
   "metadata": {},
   "outputs": [],
   "source": [
    "df_manager = pd.read_csv('/home/user/Desktop/files_desktop/DATA_managers/adm2018.csv')"
   ]
  },
  {
   "cell_type": "code",
   "execution_count": 106,
   "metadata": {},
   "outputs": [
    {
     "data": {
      "text/html": [
       "<div>\n",
       "<style scoped>\n",
       "    .dataframe tbody tr th:only-of-type {\n",
       "        vertical-align: middle;\n",
       "    }\n",
       "\n",
       "    .dataframe tbody tr th {\n",
       "        vertical-align: top;\n",
       "    }\n",
       "\n",
       "    .dataframe thead th {\n",
       "        text-align: right;\n",
       "    }\n",
       "</style>\n",
       "<table border=\"1\" class=\"dataframe\">\n",
       "  <thead>\n",
       "    <tr style=\"text-align: right;\">\n",
       "      <th></th>\n",
       "      <th>anio</th>\n",
       "      <th>expediente</th>\n",
       "      <th>ingresos</th>\n",
       "      <th>activos</th>\n",
       "      <th>patrimonio</th>\n",
       "      <th>utilidad_perdida</th>\n",
       "      <th>cantidad_epleados</th>\n",
       "      <th>fecha_ejecucion</th>\n",
       "      <th>fecha_actualizacion</th>\n",
       "      <th>adm_cedula</th>\n",
       "      <th>administrador</th>\n",
       "      <th>adm_fnombramiento</th>\n",
       "      <th>adm_ccargo</th>\n",
       "      <th>cargo</th>\n",
       "      <th>adm_periodo</th>\n",
       "      <th>adm_ftermino</th>\n",
       "      <th>adm_frmercantil</th>\n",
       "    </tr>\n",
       "  </thead>\n",
       "  <tbody>\n",
       "    <tr>\n",
       "      <th>0</th>\n",
       "      <td>2018</td>\n",
       "      <td>1</td>\n",
       "      <td>142310.91</td>\n",
       "      <td>1337788.57</td>\n",
       "      <td>1295310.23</td>\n",
       "      <td>10245.38</td>\n",
       "      <td>12.0</td>\n",
       "      <td>2019-06-18 02:32:57.053000</td>\n",
       "      <td>2019-06-18 03:17:01.126000</td>\n",
       "      <td>1701093039</td>\n",
       "      <td>LLERENA ALBUJA TERESA</td>\n",
       "      <td>2008-03-29 15:13:33.886000</td>\n",
       "      <td>1</td>\n",
       "      <td>GERENTE GENERAL</td>\n",
       "      <td>4.0</td>\n",
       "      <td>2012-03-03 16:28:21.526000</td>\n",
       "      <td>2008-04-08 00:00:00</td>\n",
       "    </tr>\n",
       "    <tr>\n",
       "      <th>1</th>\n",
       "      <td>2018</td>\n",
       "      <td>10000</td>\n",
       "      <td>39118392.90</td>\n",
       "      <td>27482362.90</td>\n",
       "      <td>7449106.56</td>\n",
       "      <td>1530469.95</td>\n",
       "      <td>1858.0</td>\n",
       "      <td>2019-06-18 02:34:47.153000</td>\n",
       "      <td>2019-06-18 03:17:02.703000</td>\n",
       "      <td>1706450655</td>\n",
       "      <td>MONTALVO PAREDES PABLO SANTIAGO</td>\n",
       "      <td>2014-07-29 08:50:29.166000</td>\n",
       "      <td>32</td>\n",
       "      <td>PRESIDENTE DEL DIRECTORIO</td>\n",
       "      <td>3.0</td>\n",
       "      <td>2016-01-04 10:26:39.920000</td>\n",
       "      <td>2014-08-07 00:00:00</td>\n",
       "    </tr>\n",
       "    <tr>\n",
       "      <th>2</th>\n",
       "      <td>2018</td>\n",
       "      <td>100009</td>\n",
       "      <td>1275257.93</td>\n",
       "      <td>488437.09</td>\n",
       "      <td>147892.77</td>\n",
       "      <td>585.75</td>\n",
       "      <td>111.0</td>\n",
       "      <td>2019-06-18 02:46:54.700000</td>\n",
       "      <td>2019-06-18 03:17:17.590000</td>\n",
       "      <td>0922066337</td>\n",
       "      <td>DOMINGUEZ ESPINOZA STEPHANIA ELIZABETH</td>\n",
       "      <td>2017-02-15 12:24:44.593000</td>\n",
       "      <td>30</td>\n",
       "      <td>PRESIDENTE</td>\n",
       "      <td>2.0</td>\n",
       "      <td>NaN</td>\n",
       "      <td>2017-02-17 00:00:00</td>\n",
       "    </tr>\n",
       "    <tr>\n",
       "      <th>3</th>\n",
       "      <td>2018</td>\n",
       "      <td>100010</td>\n",
       "      <td>207421.36</td>\n",
       "      <td>1143468.72</td>\n",
       "      <td>133697.10</td>\n",
       "      <td>30227.61</td>\n",
       "      <td>5.0</td>\n",
       "      <td>2019-06-18 02:46:54.753000</td>\n",
       "      <td>2019-06-18 03:17:17.590000</td>\n",
       "      <td>0902954627</td>\n",
       "      <td>WONG LAMA OTTON FERNANDO</td>\n",
       "      <td>2000-02-24 00:00:00</td>\n",
       "      <td>1</td>\n",
       "      <td>GERENTE GENERAL</td>\n",
       "      <td>5.0</td>\n",
       "      <td>2008-01-28 16:26:43.083000</td>\n",
       "      <td>2000-03-01 00:00:00</td>\n",
       "    </tr>\n",
       "    <tr>\n",
       "      <th>4</th>\n",
       "      <td>2018</td>\n",
       "      <td>100022</td>\n",
       "      <td>559598.53</td>\n",
       "      <td>292423.91</td>\n",
       "      <td>179964.99</td>\n",
       "      <td>-848.55</td>\n",
       "      <td>22.0</td>\n",
       "      <td>2019-06-18 02:46:53.850000</td>\n",
       "      <td>2019-06-18 03:17:17.593000</td>\n",
       "      <td>0924381296</td>\n",
       "      <td>GORDILLO NEIRA JAIME ARTURO</td>\n",
       "      <td>2000-02-14 00:00:00</td>\n",
       "      <td>1</td>\n",
       "      <td>GERENTE GENERAL</td>\n",
       "      <td>5.0</td>\n",
       "      <td>2006-04-28 11:23:25.576000</td>\n",
       "      <td>2000-03-01 00:00:00</td>\n",
       "    </tr>\n",
       "  </tbody>\n",
       "</table>\n",
       "</div>"
      ],
      "text/plain": [
       "   anio  expediente     ingresos      activos  patrimonio  utilidad_perdida  \\\n",
       "0  2018           1    142310.91   1337788.57  1295310.23          10245.38   \n",
       "1  2018       10000  39118392.90  27482362.90  7449106.56        1530469.95   \n",
       "2  2018      100009   1275257.93    488437.09   147892.77            585.75   \n",
       "3  2018      100010    207421.36   1143468.72   133697.10          30227.61   \n",
       "4  2018      100022    559598.53    292423.91   179964.99           -848.55   \n",
       "\n",
       "   cantidad_epleados             fecha_ejecucion         fecha_actualizacion  \\\n",
       "0               12.0  2019-06-18 02:32:57.053000  2019-06-18 03:17:01.126000   \n",
       "1             1858.0  2019-06-18 02:34:47.153000  2019-06-18 03:17:02.703000   \n",
       "2              111.0  2019-06-18 02:46:54.700000  2019-06-18 03:17:17.590000   \n",
       "3                5.0  2019-06-18 02:46:54.753000  2019-06-18 03:17:17.590000   \n",
       "4               22.0  2019-06-18 02:46:53.850000  2019-06-18 03:17:17.593000   \n",
       "\n",
       "      adm_cedula                           administrador  \\\n",
       "0  1701093039                      LLERENA ALBUJA TERESA   \n",
       "1  1706450655            MONTALVO PAREDES PABLO SANTIAGO   \n",
       "2  0922066337     DOMINGUEZ ESPINOZA STEPHANIA ELIZABETH   \n",
       "3  0902954627                   WONG LAMA OTTON FERNANDO   \n",
       "4  0924381296                GORDILLO NEIRA JAIME ARTURO   \n",
       "\n",
       "            adm_fnombramiento  adm_ccargo                      cargo  \\\n",
       "0  2008-03-29 15:13:33.886000           1            GERENTE GENERAL   \n",
       "1  2014-07-29 08:50:29.166000          32  PRESIDENTE DEL DIRECTORIO   \n",
       "2  2017-02-15 12:24:44.593000          30                 PRESIDENTE   \n",
       "3         2000-02-24 00:00:00           1            GERENTE GENERAL   \n",
       "4         2000-02-14 00:00:00           1            GERENTE GENERAL   \n",
       "\n",
       "   adm_periodo                adm_ftermino      adm_frmercantil  \n",
       "0          4.0  2012-03-03 16:28:21.526000  2008-04-08 00:00:00  \n",
       "1          3.0  2016-01-04 10:26:39.920000  2014-08-07 00:00:00  \n",
       "2          2.0                         NaN  2017-02-17 00:00:00  \n",
       "3          5.0  2008-01-28 16:26:43.083000  2000-03-01 00:00:00  \n",
       "4          5.0  2006-04-28 11:23:25.576000  2000-03-01 00:00:00  "
      ]
     },
     "execution_count": 106,
     "metadata": {},
     "output_type": "execute_result"
    }
   ],
   "source": [
    "df_manager.head()"
   ]
  },
  {
   "cell_type": "code",
   "execution_count": 107,
   "metadata": {},
   "outputs": [
    {
     "data": {
      "text/plain": [
       "anio                        0\n",
       "expediente                  0\n",
       "ingresos                    0\n",
       "activos                     0\n",
       "patrimonio                  0\n",
       "utilidad_perdida            0\n",
       "cantidad_epleados           0\n",
       "fecha_ejecucion             0\n",
       "fecha_actualizacion         0\n",
       "adm_cedula                  0\n",
       "administrador             780\n",
       "adm_fnombramiento           0\n",
       "adm_ccargo                  0\n",
       "cargo                       0\n",
       "adm_periodo              2276\n",
       "adm_ftermino           117444\n",
       "adm_frmercantil            25\n",
       "dtype: int64"
      ]
     },
     "execution_count": 107,
     "metadata": {},
     "output_type": "execute_result"
    }
   ],
   "source": [
    "df_manager.isna().sum()"
   ]
  },
  {
   "cell_type": "markdown",
   "metadata": {},
   "source": [
    "# Fix columns format"
   ]
  },
  {
   "cell_type": "code",
   "execution_count": 108,
   "metadata": {},
   "outputs": [],
   "source": [
    "df_manager[\"adm_ftermino\"].fillna(\"2019-06-18\", inplace=True)\n",
    "df_manager['date_begin'] = pd.to_datetime((df_manager.adm_fnombramiento.str.split().str[0]), infer_datetime_format=True)\n",
    "df_manager['date_end'] = pd.to_datetime((df_manager.adm_ftermino.str.split().str[0]), infer_datetime_format=True)"
   ]
  },
  {
   "cell_type": "markdown",
   "metadata": {},
   "source": [
    "# Filter dataset\n",
    "\n",
    "- Part1: Records between the years 2014 -2018\n",
    "- Part2: Records of those who started working outside the range of years (2014-2018) and finished their work activities within the range of years analyzed.\n",
    "- Part3: Records of those who started working between the range of years (2014-2018) and until now they are working (2019).\n",
    "- Part4: Records of those who started working outside the range of years (2014-2018) and until now they are working (2019)."
   ]
  },
  {
   "cell_type": "code",
   "execution_count": 114,
   "metadata": {},
   "outputs": [],
   "source": [
    "\n",
    "part1 = df_manager[  ((df_manager.date_end < '2019-01-01') & (df_manager.date_end >= '2014-01-01')) & \n",
    "((df_manager.date_begin < '2019-01-01') & (df_manager.date_begin >= '2014-01-01'))]\n",
    "part2 = df_manager[  ((df_manager.date_end < '2019-01-01') & (df_manager.date_end >= '2014-01-01')) & \n",
    "( (df_manager.date_begin < '2014-01-01') )]\n",
    "\n",
    "part3 = df_manager[  ( (df_manager.date_end == '2019-06-18') ) & \n",
    "((df_manager.date_begin < '2019-01-01') & (df_manager.date_begin >= '2014-01-01'))]\n",
    "part4 = df_manager[  ( (df_manager.date_end == '2019-06-18') ) & \n",
    "( (df_manager.date_begin < '2014-01-01') )]\n",
    "\n",
    "df_final = pd.concat([part1, part2, part3, part4 ], ignore_index=True)"
   ]
  },
  {
   "cell_type": "markdown",
   "metadata": {},
   "source": [
    "# Load Data of companies"
   ]
  },
  {
   "cell_type": "code",
   "execution_count": 2,
   "metadata": {},
   "outputs": [],
   "source": [
    "df_firms = dd.read_csv('/home/user/Desktop/files_desktop/DATA_managers/BASE.csv')"
   ]
  },
  {
   "cell_type": "code",
   "execution_count": 4,
   "metadata": {},
   "outputs": [
    {
     "name": "stderr",
     "output_type": "stream",
     "text": [
      "22/05/04 14:40:45 WARN Utils: Your hostname, user-Inspiron-5570 resolves to a loopback address: 127.0.1.1; using 192.168.200.10 instead (on interface wlp2s0)\n",
      "22/05/04 14:40:45 WARN Utils: Set SPARK_LOCAL_IP if you need to bind to another address\n",
      "Using Spark's default log4j profile: org/apache/spark/log4j-defaults.properties\n",
      "Setting default log level to \"WARN\".\n",
      "To adjust logging level use sc.setLogLevel(newLevel). For SparkR, use setLogLevel(newLevel).\n",
      "22/05/04 14:40:46 WARN NativeCodeLoader: Unable to load native-hadoop library for your platform... using builtin-java classes where applicable\n"
     ]
    }
   ],
   "source": [
    "# spark = SparkSession.builder \\\n",
    "#     .master('local[*]') \\\n",
    "#     .config(\"spark.driver.memory\", \"20g\") \\\n",
    "#     .appName('MyFirstCSVLoad') \\\n",
    "#     .getOrCreate()\n",
    "# super_18 = spark.read.format(\"csv\").load(\"/home/user/Desktop/files_desktop/DATA_managers/BASE.csv\", header = 'true')"
   ]
  }
 ],
 "metadata": {
  "interpreter": {
   "hash": "916dbcbb3f70747c44a77c7bcd40155683ae19c65e1c03b4aa3499c5328201f1"
  },
  "kernelspec": {
   "display_name": "Python 3.8.10 64-bit",
   "language": "python",
   "name": "python3"
  },
  "language_info": {
   "codemirror_mode": {
    "name": "ipython",
    "version": 3
   },
   "file_extension": ".py",
   "mimetype": "text/x-python",
   "name": "python",
   "nbconvert_exporter": "python",
   "pygments_lexer": "ipython3",
   "version": "3.8.10"
  },
  "orig_nbformat": 4
 },
 "nbformat": 4,
 "nbformat_minor": 2
}
