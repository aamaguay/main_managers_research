{
 "cells": [
  {
   "cell_type": "markdown",
   "metadata": {},
   "source": [
    "# Imports"
   ]
  },
  {
   "cell_type": "code",
   "execution_count": 2,
   "metadata": {},
   "outputs": [],
   "source": [
    "import pandas as pd\n",
    "import numpy as np\n",
    "import dask.dataframe as dd\n",
    "import json\n",
    "from datetime import date\n",
    "import multiprocessing as mp\n",
    "\n",
    "from pyspark.sql import SparkSession\n",
    "from pyspark.sql.types import StructField,IntegerType, StructType,StringType\n",
    "from functools import reduce  # For Python 3.x\n",
    "from pyspark.sql import DataFrame\n",
    "from pyspark.sql.functions import *\n",
    "from pyspark.sql import functions as sf\n",
    "from pyspark.sql.types import IntegerType\n",
    "from pyspark.sql.functions import isnan, when, count, col , split"
   ]
  },
  {
   "cell_type": "markdown",
   "metadata": {},
   "source": [
    "# Functions"
   ]
  },
  {
   "cell_type": "code",
   "execution_count": 60,
   "metadata": {},
   "outputs": [],
   "source": [
    "def detect_year(begin_value, end_value, dict_years, ci_id):\n",
    "    ls_year = list(range(begin_value.year, end_value.year+1))\n",
    "    filter_year = pd.Series(ls_year)[ pd.Series(ls_year).isin(list(range(2014,2019))) ]\n",
    "    for yr in filter_year:\n",
    "        if ci_id not in dict_years[yr]:\n",
    "            dict_years[yr].append(ci_id) \n",
    "    return dict_years\n",
    "\n",
    "def remove_empty_ls(dct):\n",
    "    if ((pd.Series(dct.values()).str.len()==0).sum()>=1):\n",
    "        bol = pd.Series(dct.values()).str.len() >=1\n",
    "        dct_filter = dict( list(zip(pd.Series(dct.keys())[bol], pd.Series(dct.values())[bol])) )\n",
    "        return dct_filter\n",
    "    else:\n",
    "        return dct\n",
    "\n",
    "def get_dct_by_year(dct,yr_value):\n",
    "    dct_by_yr = dict()\n",
    "    for comp_id, dct_years in dct.items():\n",
    "        try:\n",
    "            dct_by_yr[comp_id] = dct_years[yr_value]\n",
    "        except Exception as e:\n",
    "            pass\n",
    "    return dct_by_yr\n",
    "\n",
    "def identify_sector(firm_id, dc_by_sector):\n",
    "    for sector_label, list_id_firms in dc_by_sector.items():\n",
    "        if firm_id in list_id_firms:\n",
    "            label_firm = sector_label\n",
    "            break\n",
    "    return label_firm\n",
    "    \n",
    "def dict_of_firms_with_similar_managers(dc_by_year):\n",
    "    dc_result = dict()\n",
    "    ls_exclude = []\n",
    "    for origin_id, origin_list in dc_by_year.items():\n",
    "        for end_id, end_list in dc_by_year.items():\n",
    "            if (end_id not in ls_exclude):\n",
    "                if (origin_id != end_id):\n",
    "                    common_ci = set(origin_list) & set(end_list)\n",
    "                    if len(common_ci) > 0:\n",
    "                        if (origin_id not in dc_result.keys()) & (end_id not in dc_result.keys()):\n",
    "                            dc_result[origin_id] = {end_id:len(common_ci)}\n",
    "                            dc_result[end_id] = {origin_id:len(common_ci)}\n",
    "                        elif (origin_id not in dc_result.keys()) & (end_id in dc_result.keys()):\n",
    "                            dc_result[origin_id] = {end_id:len(common_ci)}\n",
    "                            dc_result[end_id][origin_id] = len(common_ci)\n",
    "                        elif (origin_id in dc_result.keys()) & (end_id not in dc_result.keys()):\n",
    "                            dc_result[end_id] = {origin_id:len(common_ci)}\n",
    "                            dc_result[origin_id][end_id] = len(common_ci)\n",
    "                        elif (origin_id in dc_result.keys()) & (end_id in dc_result.keys()):\n",
    "                            dc_result[origin_id][end_id] = len(common_ci)\n",
    "                            dc_result[end_id][origin_id] = len(common_ci)\n",
    "        ls_exclude.append(origin_id)\n",
    "    return dc_result"
   ]
  },
  {
   "cell_type": "markdown",
   "metadata": {},
   "source": [
    "# Load Dataset"
   ]
  },
  {
   "cell_type": "code",
   "execution_count": 5,
   "metadata": {},
   "outputs": [],
   "source": [
    "df_manager = pd.read_csv('/home/user/Desktop/files_desktop/DATA_managers/adm2018.csv')"
   ]
  },
  {
   "cell_type": "code",
   "execution_count": 6,
   "metadata": {},
   "outputs": [
    {
     "data": {
      "text/html": [
       "<div>\n",
       "<style scoped>\n",
       "    .dataframe tbody tr th:only-of-type {\n",
       "        vertical-align: middle;\n",
       "    }\n",
       "\n",
       "    .dataframe tbody tr th {\n",
       "        vertical-align: top;\n",
       "    }\n",
       "\n",
       "    .dataframe thead th {\n",
       "        text-align: right;\n",
       "    }\n",
       "</style>\n",
       "<table border=\"1\" class=\"dataframe\">\n",
       "  <thead>\n",
       "    <tr style=\"text-align: right;\">\n",
       "      <th></th>\n",
       "      <th>anio</th>\n",
       "      <th>expediente</th>\n",
       "      <th>ingresos</th>\n",
       "      <th>activos</th>\n",
       "      <th>patrimonio</th>\n",
       "      <th>utilidad_perdida</th>\n",
       "      <th>cantidad_epleados</th>\n",
       "      <th>fecha_ejecucion</th>\n",
       "      <th>fecha_actualizacion</th>\n",
       "      <th>adm_cedula</th>\n",
       "      <th>administrador</th>\n",
       "      <th>adm_fnombramiento</th>\n",
       "      <th>adm_ccargo</th>\n",
       "      <th>cargo</th>\n",
       "      <th>adm_periodo</th>\n",
       "      <th>adm_ftermino</th>\n",
       "      <th>adm_frmercantil</th>\n",
       "    </tr>\n",
       "  </thead>\n",
       "  <tbody>\n",
       "    <tr>\n",
       "      <th>0</th>\n",
       "      <td>2018</td>\n",
       "      <td>1</td>\n",
       "      <td>142310.91</td>\n",
       "      <td>1337788.57</td>\n",
       "      <td>1295310.23</td>\n",
       "      <td>10245.38</td>\n",
       "      <td>12.0</td>\n",
       "      <td>2019-06-18 02:32:57.053000</td>\n",
       "      <td>2019-06-18 03:17:01.126000</td>\n",
       "      <td>1701093039</td>\n",
       "      <td>LLERENA ALBUJA TERESA</td>\n",
       "      <td>2008-03-29 15:13:33.886000</td>\n",
       "      <td>1</td>\n",
       "      <td>GERENTE GENERAL</td>\n",
       "      <td>4.0</td>\n",
       "      <td>2012-03-03 16:28:21.526000</td>\n",
       "      <td>2008-04-08 00:00:00</td>\n",
       "    </tr>\n",
       "    <tr>\n",
       "      <th>1</th>\n",
       "      <td>2018</td>\n",
       "      <td>10000</td>\n",
       "      <td>39118392.90</td>\n",
       "      <td>27482362.90</td>\n",
       "      <td>7449106.56</td>\n",
       "      <td>1530469.95</td>\n",
       "      <td>1858.0</td>\n",
       "      <td>2019-06-18 02:34:47.153000</td>\n",
       "      <td>2019-06-18 03:17:02.703000</td>\n",
       "      <td>1706450655</td>\n",
       "      <td>MONTALVO PAREDES PABLO SANTIAGO</td>\n",
       "      <td>2014-07-29 08:50:29.166000</td>\n",
       "      <td>32</td>\n",
       "      <td>PRESIDENTE DEL DIRECTORIO</td>\n",
       "      <td>3.0</td>\n",
       "      <td>2016-01-04 10:26:39.920000</td>\n",
       "      <td>2014-08-07 00:00:00</td>\n",
       "    </tr>\n",
       "    <tr>\n",
       "      <th>2</th>\n",
       "      <td>2018</td>\n",
       "      <td>100009</td>\n",
       "      <td>1275257.93</td>\n",
       "      <td>488437.09</td>\n",
       "      <td>147892.77</td>\n",
       "      <td>585.75</td>\n",
       "      <td>111.0</td>\n",
       "      <td>2019-06-18 02:46:54.700000</td>\n",
       "      <td>2019-06-18 03:17:17.590000</td>\n",
       "      <td>0922066337</td>\n",
       "      <td>DOMINGUEZ ESPINOZA STEPHANIA ELIZABETH</td>\n",
       "      <td>2017-02-15 12:24:44.593000</td>\n",
       "      <td>30</td>\n",
       "      <td>PRESIDENTE</td>\n",
       "      <td>2.0</td>\n",
       "      <td>NaN</td>\n",
       "      <td>2017-02-17 00:00:00</td>\n",
       "    </tr>\n",
       "  </tbody>\n",
       "</table>\n",
       "</div>"
      ],
      "text/plain": [
       "   anio  expediente     ingresos      activos  patrimonio  utilidad_perdida  \\\n",
       "0  2018           1    142310.91   1337788.57  1295310.23          10245.38   \n",
       "1  2018       10000  39118392.90  27482362.90  7449106.56        1530469.95   \n",
       "2  2018      100009   1275257.93    488437.09   147892.77            585.75   \n",
       "\n",
       "   cantidad_epleados             fecha_ejecucion         fecha_actualizacion  \\\n",
       "0               12.0  2019-06-18 02:32:57.053000  2019-06-18 03:17:01.126000   \n",
       "1             1858.0  2019-06-18 02:34:47.153000  2019-06-18 03:17:02.703000   \n",
       "2              111.0  2019-06-18 02:46:54.700000  2019-06-18 03:17:17.590000   \n",
       "\n",
       "      adm_cedula                           administrador  \\\n",
       "0  1701093039                      LLERENA ALBUJA TERESA   \n",
       "1  1706450655            MONTALVO PAREDES PABLO SANTIAGO   \n",
       "2  0922066337     DOMINGUEZ ESPINOZA STEPHANIA ELIZABETH   \n",
       "\n",
       "            adm_fnombramiento  adm_ccargo                      cargo  \\\n",
       "0  2008-03-29 15:13:33.886000           1            GERENTE GENERAL   \n",
       "1  2014-07-29 08:50:29.166000          32  PRESIDENTE DEL DIRECTORIO   \n",
       "2  2017-02-15 12:24:44.593000          30                 PRESIDENTE   \n",
       "\n",
       "   adm_periodo                adm_ftermino      adm_frmercantil  \n",
       "0          4.0  2012-03-03 16:28:21.526000  2008-04-08 00:00:00  \n",
       "1          3.0  2016-01-04 10:26:39.920000  2014-08-07 00:00:00  \n",
       "2          2.0                         NaN  2017-02-17 00:00:00  "
      ]
     },
     "execution_count": 6,
     "metadata": {},
     "output_type": "execute_result"
    }
   ],
   "source": [
    "df_manager.head(3)"
   ]
  },
  {
   "cell_type": "code",
   "execution_count": 7,
   "metadata": {},
   "outputs": [
    {
     "data": {
      "text/plain": [
       "anio                        0\n",
       "expediente                  0\n",
       "ingresos                    0\n",
       "activos                     0\n",
       "patrimonio                  0\n",
       "utilidad_perdida            0\n",
       "cantidad_epleados           0\n",
       "fecha_ejecucion             0\n",
       "fecha_actualizacion         0\n",
       "adm_cedula                  0\n",
       "administrador             780\n",
       "adm_fnombramiento           0\n",
       "adm_ccargo                  0\n",
       "cargo                       0\n",
       "adm_periodo              2276\n",
       "adm_ftermino           117444\n",
       "adm_frmercantil            25\n",
       "dtype: int64"
      ]
     },
     "execution_count": 7,
     "metadata": {},
     "output_type": "execute_result"
    }
   ],
   "source": [
    "df_manager.isna().sum()"
   ]
  },
  {
   "cell_type": "markdown",
   "metadata": {},
   "source": [
    "# Fix columns format"
   ]
  },
  {
   "cell_type": "code",
   "execution_count": 8,
   "metadata": {},
   "outputs": [],
   "source": [
    "df_manager[\"adm_ftermino\"].fillna(\"2019-06-18\", inplace=True)\n",
    "df_manager['date_begin'] = pd.to_datetime((df_manager.adm_fnombramiento.str.split().str[0]), infer_datetime_format=True)\n",
    "df_manager['date_end'] = pd.to_datetime((df_manager.adm_ftermino.str.split().str[0]), infer_datetime_format=True)\n",
    "df_manager['expediente'] = df_manager.expediente.astype(str)\n",
    "df_manager['adm_cedula' ]= df_manager.adm_cedula.str.strip()"
   ]
  },
  {
   "cell_type": "markdown",
   "metadata": {},
   "source": [
    "# Filter dataset\n",
    "\n",
    "- Part1: Records between the years 2014 -2018\n",
    "- Part2: Records of those who started working outside the range of years (2014-2018) and finished their work activities within the range of years analyzed.\n",
    "- Part3: Records of those who started working between the range of years (2014-2018) and until now they are working (2019).\n",
    "- Part4: Records of those who started working outside the range of years (2014-2018) and until now they are working (2019)."
   ]
  },
  {
   "cell_type": "code",
   "execution_count": 9,
   "metadata": {},
   "outputs": [],
   "source": [
    "\n",
    "part1 = df_manager[  ((df_manager.date_end < '2019-01-01') & (df_manager.date_end >= '2014-01-01')) & \n",
    "((df_manager.date_begin < '2019-01-01') & (df_manager.date_begin >= '2014-01-01'))]\n",
    "part2 = df_manager[  ((df_manager.date_end < '2019-01-01') & (df_manager.date_end >= '2014-01-01')) & \n",
    "( (df_manager.date_begin < '2014-01-01') )]\n",
    "\n",
    "part3 = df_manager[  ( (df_manager.date_end == '2019-06-18') ) & \n",
    "((df_manager.date_begin < '2019-01-01') & (df_manager.date_begin >= '2014-01-01'))]\n",
    "part4 = df_manager[  ( (df_manager.date_end == '2019-06-18') ) & \n",
    "( (df_manager.date_begin < '2014-01-01') )]\n",
    "\n",
    "df_manager_final = pd.concat([part1, part2, part3, part4 ], ignore_index=True)"
   ]
  },
  {
   "cell_type": "markdown",
   "metadata": {},
   "source": [
    "# Load Data of companies"
   ]
  },
  {
   "cell_type": "code",
   "execution_count": 16,
   "metadata": {},
   "outputs": [],
   "source": [
    "# dk_firms = dd.read_csv('/home/user/Desktop/files_desktop/DATA_managers/BASE.csv')\n",
    "# dk_firms = dk_firms.rename(columns={'Año':'anio'})\n",
    "# dk_firms.columns = pd.Series(dk_firms.columns).str.lower()\n",
    "\n",
    "# # filter columns\n",
    "# only_firm_by_sector_dk = ((dk_firms[['expediente','sector']]).drop_duplicates(subset=['expediente']))"
   ]
  },
  {
   "cell_type": "code",
   "execution_count": 10,
   "metadata": {},
   "outputs": [
    {
     "name": "stderr",
     "output_type": "stream",
     "text": [
      "22/05/12 16:55:33 WARN Utils: Your hostname, user-Inspiron-5570 resolves to a loopback address: 127.0.1.1; using 192.168.200.10 instead (on interface wlp2s0)\n",
      "22/05/12 16:55:33 WARN Utils: Set SPARK_LOCAL_IP if you need to bind to another address\n",
      "Using Spark's default log4j profile: org/apache/spark/log4j-defaults.properties\n",
      "Setting default log level to \"WARN\".\n",
      "To adjust logging level use sc.setLogLevel(newLevel). For SparkR, use setLogLevel(newLevel).\n",
      "22/05/12 16:55:34 WARN NativeCodeLoader: Unable to load native-hadoop library for your platform... using builtin-java classes where applicable\n"
     ]
    }
   ],
   "source": [
    "spark = SparkSession.builder \\\n",
    "    .master('local[*]') \\\n",
    "    .config(\"spark.driver.memory\", \"20g\") \\\n",
    "    .appName('MyFirstCSVLoad') \\\n",
    "    .getOrCreate()\n",
    "dk_firms = spark.read.format(\"csv\").load(\"/home/user/Desktop/files_desktop/DATA_managers/BASE.csv\", header = 'true')"
   ]
  },
  {
   "cell_type": "code",
   "execution_count": 11,
   "metadata": {},
   "outputs": [],
   "source": [
    "only_firm_by_sector_spk = (dk_firms.select(col('expediente'),col('rama_actividad')))\\\n",
    "    .dropDuplicates(['expediente'])"
   ]
  },
  {
   "cell_type": "code",
   "execution_count": 12,
   "metadata": {},
   "outputs": [
    {
     "name": "stderr",
     "output_type": "stream",
     "text": [
      "                                                                                \r"
     ]
    }
   ],
   "source": [
    "only_firm_by_sector_df = only_firm_by_sector_spk.toPandas()"
   ]
  },
  {
   "cell_type": "markdown",
   "metadata": {},
   "source": [
    "# Update datasets with the same *expediente ids* for both dataset (records of administrators and finance data)"
   ]
  },
  {
   "cell_type": "code",
   "execution_count": 13,
   "metadata": {},
   "outputs": [],
   "source": [
    "df_manager_update = df_manager_final[df_manager_final.expediente.isin(only_firm_by_sector_df.expediente)]\n",
    "\n",
    "df_rama_exped_id = only_firm_by_sector_df[only_firm_by_sector_df.expediente.isin(df_manager_update.expediente)]\\\n",
    "    .groupby(['rama_actividad'])\\\n",
    "        .apply( lambda x: list(set(x['expediente'])) )\\\n",
    "            .to_frame('expediente_id')\\\n",
    "                .reset_index()"
   ]
  },
  {
   "cell_type": "markdown",
   "metadata": {},
   "source": [
    "# Form dictionary with *rama_actividad* as keys and a list of firms.\n",
    "## E.g\n",
    "```\n",
    "{'A': ['159855',\n",
    "  '9064',\n",
    "  '301751',\n",
    "  '170521',\n",
    "  '709746'],\n",
    "...,\n",
    " 'T': ['148299', '6693'],\n",
    " 'U': ['175145'],\n",
    " 'Z': ['166147', '166095', '159545', '700555']\n",
    "}\n",
    "```"
   ]
  },
  {
   "cell_type": "code",
   "execution_count": 14,
   "metadata": {},
   "outputs": [],
   "source": [
    "dict_rama_exped_id = dict(list(zip(list(df_rama_exped_id.rama_actividad), list(df_rama_exped_id.expediente_id))))\n",
    "dict_rama_exped_id = {sector_lab: [ company_id+'-'+sector_lab for company_id in list_firms_ids] for sector_lab, list_firms_ids in dict_rama_exped_id.items() }\n",
    "# save dict as json file\n",
    "with open('/home/user/Desktop/files_desktop/DATA_managers/dict_rama_exped_id.json', 'w',encoding='utf-8') as f:\n",
    "    json.dump(dict_rama_exped_id, f, ensure_ascii=False, indent=4)\n",
    "\n",
    "# df_final.expediente.drop_duplicates().isin(only_firm_by_sector_df.expediente).sum() # 60580, 60538\n",
    "# Opening JSON file\n",
    "f = open('/home/user/Desktop/files_desktop/DATA_managers/dict_rama_exped_id.json')\n",
    "# returns JSON object as a dictionary\n",
    "data = json.load(f)"
   ]
  },
  {
   "cell_type": "code",
   "execution_count": 15,
   "metadata": {},
   "outputs": [
    {
     "name": "stderr",
     "output_type": "stream",
     "text": [
      "/tmp/ipykernel_12498/2379984788.py:3: DeprecationWarning: The default dtype for empty Series will be 'object' instead of 'float64' in a future version. Specify a dtype explicitly to silence this warning.\n",
      "  filter_year = pd.Series(ls_year)[ pd.Series(ls_year).isin(list(range(2014,2019))) ]\n"
     ]
    }
   ],
   "source": [
    "df_manager_update = df_manager_update.merge(only_firm_by_sector_df, how='left', on='expediente')\n",
    "df_manager_update['new_expediente_rama'] = df_manager_update.expediente +'-'+ df_manager_update.rama_actividad\n",
    "dict_firm_manager_by_year = dict()\n",
    "\n",
    "for i,row in df_manager_update.iterrows():\n",
    "    if row['new_expediente_rama'] not in dict_firm_manager_by_year.keys():\n",
    "        anio_dict = { 2014:[],2015:[],2016:[],2017:[],2018:[]}\n",
    "        dict_results_yr = detect_year(row['date_begin'], row['date_end'], anio_dict, row['adm_cedula']  )\n",
    "        dict_firm_manager_by_year[row['new_expediente_rama']] = dict_results_yr\n",
    "    else:\n",
    "        anio_dict = dict_firm_manager_by_year[row['new_expediente_rama']]\n",
    "        dict_results_yr = detect_year(row['date_begin'], row['date_end'], anio_dict, row['adm_cedula'] )\n",
    "        dict_firm_manager_by_year[row['new_expediente_rama']] = dict_results_yr\n"
   ]
  },
  {
   "cell_type": "markdown",
   "metadata": {},
   "source": [
    "# Remove empty list by year"
   ]
  },
  {
   "cell_type": "code",
   "execution_count": 16,
   "metadata": {},
   "outputs": [],
   "source": [
    "dict_firm_manager_by_year_update = {firm_id: remove_empty_ls(dct_yr) for firm_id, dct_yr in dict_firm_manager_by_year.items() }"
   ]
  },
  {
   "cell_type": "markdown",
   "metadata": {},
   "source": [
    "# Form dict of firm by year to estimate common managers"
   ]
  },
  {
   "cell_type": "code",
   "execution_count": 17,
   "metadata": {},
   "outputs": [],
   "source": [
    "manager_by_firms_2014,manager_by_firms_2015,manager_by_firms_2016,manager_by_firms_2017,manager_by_firms_2018 =  [ get_dct_by_year(dict_firm_manager_by_year_update, i) for i in range(2014,2019)]"
   ]
  },
  {
   "cell_type": "code",
   "execution_count": 20,
   "metadata": {},
   "outputs": [
    {
     "name": "stdout",
     "output_type": "stream",
     "text": [
      "Number of processors:  8\n"
     ]
    }
   ],
   "source": [
    "# copy_2014_dict = manager_by_firms_2014.copy()\n",
    "print(\"Number of processors: \", mp.cpu_count())"
   ]
  },
  {
   "cell_type": "code",
   "execution_count": 19,
   "metadata": {},
   "outputs": [],
   "source": [
    "\n",
    "a1 = {'10000-N': ['170645065599', '1704446804999'],\n",
    " '10003-C': ['1706563689', '1702090166', '1705324976','0907171615'],\n",
    " '100138-C': ['0908881006', '1304323981', '0911221174', '0900427519','0907171615'],\n",
    " '100235-G': ['0907171615', '0908911407', '0900919226','1706563689'],\n",
    " '100253-G': ['0909779761', '1801667757','0907171615','1706563689'],\n",
    " '100330-E': ['0915765655', '1200903829','0907171615'],\n",
    " '100390-G': ['0915932222', '0924310527', '0904268794'],\n",
    " '100538-F': ['1715246045', '1715271274','0907171615','0907171615','1706563689']}\n",
    "\n",
    "a2 = {'10098-G': ['1711874667', '1002223236','0910457563','1707347777'],\n",
    " '101400-K': ['0908027949', '0908956386','0904582392','0910457563'],\n",
    " '101601-A': ['0910457563', '0907663579','1711874667','1707347777'],\n",
    " '101612-L': ['1300263017', '0904010162','0903159796','1711874667'],\n",
    " '10212-G': ['1701983866', '1707347777', '1702385988','1711874667','0910457563'] }\n",
    " \n",
    "a3 = {'103100-G': ['0911822203', '0915047104','0800270654'],\n",
    " '10311-G': ['1709825754', '1708438716','0911822203','0800270654','0904907730'],\n",
    " '103393-L': ['0904907730','0911822203'],\n",
    " '103456-C': ['0800270654', '0901248328', '0901321745','0904907730']}"
   ]
  },
  {
   "cell_type": "code",
   "execution_count": 62,
   "metadata": {},
   "outputs": [
    {
     "name": "stdout",
     "output_type": "stream",
     "text": [
      "CPU times: user 3 µs, sys: 0 ns, total: 3 µs\n",
      "Wall time: 6.44 µs\n"
     ]
    },
    {
     "ename": "KeyboardInterrupt",
     "evalue": "",
     "output_type": "error",
     "traceback": [
      "\u001b[0;31m---------------------------------------------------------------------------\u001b[0m",
      "\u001b[0;31mKeyboardInterrupt\u001b[0m                         Traceback (most recent call last)",
      "\u001b[0;32m/tmp/ipykernel_12498/2268520162.py\u001b[0m in \u001b[0;36m<module>\u001b[0;34m\u001b[0m\n\u001b[1;32m      1\u001b[0m \u001b[0mget_ipython\u001b[0m\u001b[0;34m(\u001b[0m\u001b[0;34m)\u001b[0m\u001b[0;34m.\u001b[0m\u001b[0mrun_line_magic\u001b[0m\u001b[0;34m(\u001b[0m\u001b[0;34m'time'\u001b[0m\u001b[0;34m,\u001b[0m \u001b[0;34m''\u001b[0m\u001b[0;34m)\u001b[0m\u001b[0;34m\u001b[0m\u001b[0;34m\u001b[0m\u001b[0m\n\u001b[0;32m----> 2\u001b[0;31m \u001b[0mp1\u001b[0m \u001b[0;34m=\u001b[0m \u001b[0mdict_of_firms_with_similar_managers\u001b[0m\u001b[0;34m(\u001b[0m\u001b[0mmanager_by_firms_2014\u001b[0m\u001b[0;34m)\u001b[0m\u001b[0;34m\u001b[0m\u001b[0;34m\u001b[0m\u001b[0m\n\u001b[0m",
      "\u001b[0;32m/tmp/ipykernel_12498/2912419338.py\u001b[0m in \u001b[0;36mdict_of_firms_with_similar_managers\u001b[0;34m(dc_by_year)\u001b[0m\n\u001b[1;32m     36\u001b[0m     \u001b[0;32mfor\u001b[0m \u001b[0morigin_id\u001b[0m\u001b[0;34m,\u001b[0m \u001b[0morigin_list\u001b[0m \u001b[0;32min\u001b[0m \u001b[0mdc_by_year\u001b[0m\u001b[0;34m.\u001b[0m\u001b[0mitems\u001b[0m\u001b[0;34m(\u001b[0m\u001b[0;34m)\u001b[0m\u001b[0;34m:\u001b[0m\u001b[0;34m\u001b[0m\u001b[0;34m\u001b[0m\u001b[0m\n\u001b[1;32m     37\u001b[0m         \u001b[0;32mfor\u001b[0m \u001b[0mend_id\u001b[0m\u001b[0;34m,\u001b[0m \u001b[0mend_list\u001b[0m \u001b[0;32min\u001b[0m \u001b[0mdc_by_year\u001b[0m\u001b[0;34m.\u001b[0m\u001b[0mitems\u001b[0m\u001b[0;34m(\u001b[0m\u001b[0;34m)\u001b[0m\u001b[0;34m:\u001b[0m\u001b[0;34m\u001b[0m\u001b[0;34m\u001b[0m\u001b[0m\n\u001b[0;32m---> 38\u001b[0;31m             \u001b[0;32mif\u001b[0m \u001b[0;34m(\u001b[0m\u001b[0mend_id\u001b[0m \u001b[0;32mnot\u001b[0m \u001b[0;32min\u001b[0m \u001b[0mls_exclude\u001b[0m\u001b[0;34m)\u001b[0m\u001b[0;34m:\u001b[0m\u001b[0;34m\u001b[0m\u001b[0;34m\u001b[0m\u001b[0m\n\u001b[0m\u001b[1;32m     39\u001b[0m                 \u001b[0;32mif\u001b[0m \u001b[0;34m(\u001b[0m\u001b[0morigin_id\u001b[0m \u001b[0;34m!=\u001b[0m \u001b[0mend_id\u001b[0m\u001b[0;34m)\u001b[0m\u001b[0;34m:\u001b[0m\u001b[0;34m\u001b[0m\u001b[0;34m\u001b[0m\u001b[0m\n\u001b[1;32m     40\u001b[0m                     \u001b[0mcommon_ci\u001b[0m \u001b[0;34m=\u001b[0m \u001b[0mset\u001b[0m\u001b[0;34m(\u001b[0m\u001b[0morigin_list\u001b[0m\u001b[0;34m)\u001b[0m \u001b[0;34m&\u001b[0m \u001b[0mset\u001b[0m\u001b[0;34m(\u001b[0m\u001b[0mend_list\u001b[0m\u001b[0;34m)\u001b[0m\u001b[0;34m\u001b[0m\u001b[0;34m\u001b[0m\u001b[0m\n",
      "\u001b[0;31mKeyboardInterrupt\u001b[0m: "
     ]
    }
   ],
   "source": [
    "%time\n",
    "p1 = dict_of_firms_with_similar_managers(manager_by_firms_2014)"
   ]
  },
  {
   "cell_type": "code",
   "execution_count": 61,
   "metadata": {},
   "outputs": [
    {
     "data": {
      "text/plain": [
       "{'10003-C': {'100138-C': 1,\n",
       "  '100235-G': 2,\n",
       "  '100253-G': 2,\n",
       "  '100330-E': 1,\n",
       "  '100538-F': 2},\n",
       " '100138-C': {'10003-C': 1,\n",
       "  '100235-G': 1,\n",
       "  '100253-G': 1,\n",
       "  '100330-E': 1,\n",
       "  '100538-F': 1},\n",
       " '100235-G': {'10003-C': 2,\n",
       "  '100138-C': 1,\n",
       "  '100253-G': 2,\n",
       "  '100330-E': 1,\n",
       "  '100538-F': 2},\n",
       " '100253-G': {'10003-C': 2,\n",
       "  '100138-C': 1,\n",
       "  '100235-G': 2,\n",
       "  '100330-E': 1,\n",
       "  '100538-F': 2},\n",
       " '100330-E': {'10003-C': 1,\n",
       "  '100138-C': 1,\n",
       "  '100235-G': 1,\n",
       "  '100253-G': 1,\n",
       "  '100538-F': 1},\n",
       " '100538-F': {'10003-C': 2,\n",
       "  '100138-C': 1,\n",
       "  '100235-G': 2,\n",
       "  '100253-G': 2,\n",
       "  '100330-E': 1}}"
      ]
     },
     "execution_count": 61,
     "metadata": {},
     "output_type": "execute_result"
    }
   ],
   "source": [
    "dict_of_firms_with_similar_managers(a1)"
   ]
  },
  {
   "cell_type": "code",
   "execution_count": 63,
   "metadata": {},
   "outputs": [],
   "source": [
    "# dict_common_managers_2014 = dict_of_firms_with_similar_managers(manager_by_firms_2014)\n",
    "\n",
    "import multiprocessing as mp\n",
    "ts_ls = [a1, a2, a3]"
   ]
  },
  {
   "cell_type": "code",
   "execution_count": 234,
   "metadata": {},
   "outputs": [
    {
     "name": "stdout",
     "output_type": "stream",
     "text": [
      "CPU times: user 3 µs, sys: 0 ns, total: 3 µs\n",
      "Wall time: 6.44 µs\n"
     ]
    }
   ],
   "source": [
    "%time\n",
    "# Step 1: Init multiprocessing.Pool()\n",
    "pool = mp.Pool(mp.cpu_count())\n",
    "\n",
    "# Step 2: `pool.apply` the `howmany_within_range()`\n",
    "results = pool.map( dict_of_firms_with_similar_managers , [mdc for mdc in ts_ls])\n",
    "\n",
    "# Step 3: Don't forget to close\n",
    "pool.close()    \n",
    "\n"
   ]
  },
  {
   "cell_type": "code",
   "execution_count": 64,
   "metadata": {},
   "outputs": [
    {
     "name": "stdout",
     "output_type": "stream",
     "text": [
      "CPU times: user 5 µs, sys: 0 ns, total: 5 µs\n",
      "Wall time: 8.34 µs\n"
     ]
    }
   ],
   "source": [
    "%time\n",
    "pool = mp.pool.ThreadPool(1)\n",
    "t2 = pool.map( lambda mini: dict_of_firms_with_similar_managers(mini) , [manager_by_firms_2014])"
   ]
  }
 ],
 "metadata": {
  "interpreter": {
   "hash": "916dbcbb3f70747c44a77c7bcd40155683ae19c65e1c03b4aa3499c5328201f1"
  },
  "kernelspec": {
   "display_name": "Python 3.8.10 64-bit",
   "language": "python",
   "name": "python3"
  },
  "language_info": {
   "codemirror_mode": {
    "name": "ipython",
    "version": 3
   },
   "file_extension": ".py",
   "mimetype": "text/x-python",
   "name": "python",
   "nbconvert_exporter": "python",
   "pygments_lexer": "ipython3",
   "version": "3.8.10"
  },
  "orig_nbformat": 4
 },
 "nbformat": 4,
 "nbformat_minor": 2
}
